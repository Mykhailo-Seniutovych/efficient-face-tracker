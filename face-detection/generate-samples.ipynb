{
 "cells": [
  {
   "cell_type": "code",
   "execution_count": 2,
   "metadata": {},
   "outputs": [],
   "source": [
    "import numpy as np\n",
    "import cv2\n",
    "import time\n",
    "import matplotlib.pyplot as plt\n",
    "import os"
   ]
  },
  {
   "cell_type": "code",
   "execution_count": 4,
   "metadata": {},
   "outputs": [],
   "source": [
    "video_path = (\n",
    "    \"/home/michael/Stuff/ffmpeg-tutorial/videos/lex-33-lviv/old-school/1/fwd_camera.mp4\"\n",
    ")\n",
    "start_time_in_seconds = 0 * 60 + 40\n",
    "interval_in_seconds = 140\n",
    "\n",
    "cap = cv2.VideoCapture(video_path)\n",
    "fps = cap.get(cv2.CAP_PROP_FPS)\n",
    "start_frame_number = int(start_time_in_seconds * fps)\n",
    "cap.set(cv2.CAP_PROP_POS_FRAMES, start_frame_number)\n",
    "\n",
    "index = -1\n",
    "while True:\n",
    "    index += 1\n",
    "    if index > fps * interval_in_seconds:\n",
    "        break\n",
    "\n",
    "    ret, frame = cap.read()\n",
    "    if not ret:\n",
    "        break\n",
    "    ret = cv2.imwrite(f\"../data/noface/realsense/{index}.jpg\", frame)\n",
    "    if not ret:\n",
    "        break"
   ]
  }
 ],
 "metadata": {
  "kernelspec": {
   "display_name": "Python 3",
   "language": "python",
   "name": "python3"
  },
  "language_info": {
   "codemirror_mode": {
    "name": "ipython",
    "version": 3
   },
   "file_extension": ".py",
   "mimetype": "text/x-python",
   "name": "python",
   "nbconvert_exporter": "python",
   "pygments_lexer": "ipython3",
   "version": "3.10.12"
  }
 },
 "nbformat": 4,
 "nbformat_minor": 2
}
