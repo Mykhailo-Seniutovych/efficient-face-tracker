{
 "cells": [
  {
   "cell_type": "code",
   "execution_count": 1,
   "metadata": {},
   "outputs": [],
   "source": [
    "import cv2\n",
    "import matplotlib.pyplot as plt\n",
    "from IPython.display import display, clear_output\n",
    "import time\n",
    "\n",
    "\n",
    "for i in range(470, 670):\n",
    "    img = cv2.imread(f\"data/optical-flow/{i}.jpg\")\n",
    "    cv2.imshow(f'img', img)\n",
    "    if cv2.waitKey(0) & 0xFF == ord(\"q\"):\n",
    "        break\n",
    "\n",
    "cv2.destroyAllWindows()\n",
    "\n",
    "# %matplotlib notebook\n",
    "\n",
    "# fig, ax = plt.subplots(figsize=(8, 6))\n",
    "\n",
    "# for frame in frames:\n",
    "#     frame_rgb = cv2.cvtColor(frame, cv2.COLOR_BGR2RGB)\n",
    "    \n",
    "#     ax.imshow(frame_rgb)\n",
    "#     ax.axis('off')  \n",
    "    \n",
    "#     fig.canvas.draw()\n",
    "#     time.sleep(0.1)  \n",
    "    \n",
    "#     input(\"Press Enter to show the next frame...\")\n",
    "#     clear_output(wait=True)"
   ]
  }
 ],
 "metadata": {
  "kernelspec": {
   "display_name": "Python 3",
   "language": "python",
   "name": "python3"
  },
  "language_info": {
   "codemirror_mode": {
    "name": "ipython",
    "version": 3
   },
   "file_extension": ".py",
   "mimetype": "text/x-python",
   "name": "python",
   "nbconvert_exporter": "python",
   "pygments_lexer": "ipython3",
   "version": "3.10.12"
  }
 },
 "nbformat": 4,
 "nbformat_minor": 2
}
