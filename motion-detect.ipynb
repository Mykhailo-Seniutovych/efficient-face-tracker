{
 "cells": [
  {
   "cell_type": "code",
   "execution_count": 1,
   "metadata": {},
   "outputs": [],
   "source": [
    "import numpy as np\n",
    "import cv2\n",
    "import time\n",
    "import matplotlib.pyplot as plt"
   ]
  },
  {
   "cell_type": "code",
   "execution_count": 2,
   "metadata": {},
   "outputs": [],
   "source": [
    "start_index = 4000\n",
    "img_count = 2000\n",
    "end_index = start_index + img_count\n",
    "directory = (\n",
    "    \"/home/michael/Stuff/ffmpeg-tutorial/frames/lviv-2024-06-27/13:50/external/\"\n",
    ")"
   ]
  },
  {
   "cell_type": "code",
   "execution_count": 3,
   "metadata": {},
   "outputs": [],
   "source": [
    "def split_array(img: np.ndarray, kernel: tuple):\n",
    "    img_height, img_width = img.shape\n",
    "    tile_height, tile_width = kernel\n",
    "    tiled_array = img.reshape(\n",
    "        img_height // tile_height, tile_height, img_width // tile_width, tile_width\n",
    "    )\n",
    "    tiled_array = tiled_array.swapaxes(1, 2)\n",
    "    return tiled_array"
   ]
  },
  {
   "cell_type": "code",
   "execution_count": 4,
   "metadata": {},
   "outputs": [
    {
     "name": "stdout",
     "output_type": "stream",
     "text": [
      "[[[[0 0]\n",
      "   [0 0]]\n",
      "\n",
      "  [[0 1]\n",
      "   [1 1]]\n",
      "\n",
      "  [[0 0]\n",
      "   [0 0]]]\n",
      "\n",
      "\n",
      " [[[0 0]\n",
      "   [0 0]]\n",
      "\n",
      "  [[0 0]\n",
      "   [0 0]]\n",
      "\n",
      "  [[0 0]\n",
      "   [0 0]]]]\n"
     ]
    },
    {
     "data": {
      "text/plain": [
       "0.75"
      ]
     },
     "execution_count": 4,
     "metadata": {},
     "output_type": "execute_result"
    }
   ],
   "source": [
    "arr1 = np.array(\n",
    "    [\n",
    "        [1, 2, 3, 4, 5, 6],\n",
    "        [7, 8, 9, 10, 11, 12],\n",
    "        [13, 14, 15, 16, 17, 18],\n",
    "        [19, 20, 21, 22, 23, 24],\n",
    "    ]\n",
    ")\n",
    "arr2 = np.array(\n",
    "    [\n",
    "        [1, 2, 3, 5, 5, 6],\n",
    "        [7, 8, 10, 11, 11, 12],\n",
    "        [13, 14, 15, 16, 17, 18],\n",
    "        [19, 20, 21, 22, 23, 24],\n",
    "    ]\n",
    ")\n",
    "arr1 = split_array(arr1, (2, 2))\n",
    "arr2 = split_array(arr2, (2, 2))\n",
    "diff = arr2 - arr1\n",
    "print(diff)\n",
    "\n",
    "np.max(np.mean(diff, axis=(2, 3)))\n",
    "# np.max(np.mean(diff, axis=(1, 2)))\n",
    "# diff.shape"
   ]
  },
  {
   "cell_type": "code",
   "execution_count": 5,
   "metadata": {},
   "outputs": [
    {
     "name": "stdout",
     "output_type": "stream",
     "text": [
      "Original image array:\n",
      "[[[255   0   0]\n",
      "  [  0 255   0]\n",
      "  [  0   0 255]]\n",
      "\n",
      " [[255 255   0]\n",
      "  [  0 255 255]\n",
      "  [255   0 255]]\n",
      "\n",
      " [[128 128 128]\n",
      "  [ 64  64  64]\n",
      "  [ 32  32  32]]]\n",
      "\n",
      "Average image array (2D):\n",
      "[[ 85.  85.  85.]\n",
      " [170. 170. 170.]\n",
      " [128.  64.  32.]]\n"
     ]
    },
    {
     "data": {
      "text/plain": [
       "(3, 3, 3)"
      ]
     },
     "execution_count": 5,
     "metadata": {},
     "output_type": "execute_result"
    }
   ],
   "source": [
    "image = np.array([\n",
    "    [[255, 0, 0], [0, 255, 0], [0, 0, 255]],\n",
    "    [[255, 255, 0], [0, 255, 255], [255, 0, 255]],\n",
    "    [[128, 128, 128], [64, 64, 64], [32, 32, 32]]\n",
    "])\n",
    "average_image = np.mean(image, axis=2)\n",
    "\n",
    "print(\"Original image array:\")\n",
    "print(image)\n",
    "print(\"\\nAverage image array (2D):\")\n",
    "print(average_image)\n",
    "image.shape"
   ]
  },
  {
   "cell_type": "code",
   "execution_count": 6,
   "metadata": {},
   "outputs": [
    {
     "name": "stdout",
     "output_type": "stream",
     "text": [
      "img: 4001, diff 186.21907552083334, time: 0.4839897155761719 ms\n",
      "img: 4002, diff 190.24381510416666, time: 0.45299530029296875 ms\n",
      "img: 4003, diff 197.55078125, time: 0.4315376281738281 ms\n",
      "img: 4004, diff 51.197265625, time: 0.43392181396484375 ms\n",
      "img: 4005, diff 58.7685546875, time: 0.48613548278808594 ms\n",
      "img: 4004, diff 51.197265625, time: 0.4260540008544922 ms\n",
      "img: 4003, diff 197.55078125, time: 0.3974437713623047 ms\n",
      "img: 4004, diff 51.197265625, time: 0.4336833953857422 ms\n",
      "img: 4003, diff 197.55078125, time: 0.42724609375 ms\n",
      "img: 4004, diff 51.197265625, time: 0.4887580871582031 ms\n",
      "img: 4003, diff 197.55078125, time: 0.44035911560058594 ms\n",
      "img: 4004, diff 51.197265625, time: 0.4222393035888672 ms\n",
      "img: 4005, diff 61.461588541666664, time: 0.461578369140625 ms\n",
      "img: 4006, diff 68.4931640625, time: 0.43582916259765625 ms\n",
      "img: 4007, diff 50.0615234375, time: 0.4630088806152344 ms\n",
      "img: 4008, diff 124.44173177083333, time: 0.4336833953857422 ms\n",
      "img: 4009, diff 91.04720052083333, time: 3.324747085571289 ms\n"
     ]
    }
   ],
   "source": [
    "prev_img = cv2.imread(f\"{directory}/{start_index}.jpg\")\n",
    "prev_img_tiled = split_array(cv2.cvtColor(prev_img, cv2.COLOR_BGR2GRAY), (48, 64))\n",
    "\n",
    "index = start_index\n",
    "while True:\n",
    "    index += 1\n",
    "    if index == end_index:\n",
    "        break\n",
    "\n",
    "    current_img = cv2.imread(f\"{directory}/{index}.jpg\")\n",
    "\n",
    "    start_time = time.time()\n",
    "    current_img_tiled = split_array(\n",
    "        cv2.cvtColor(current_img, cv2.COLOR_BGR2GRAY), (48, 64)\n",
    "    )\n",
    "\n",
    "    diff = np.max(np.mean(current_img_tiled - prev_img_tiled, axis=(2, 3)))\n",
    "    end_time = time.time()\n",
    "\n",
    "    print(f\"img: {index}, diff {diff}, time: {(end_time - start_time)*1000} ms\")\n",
    "    prev_img = current_img\n",
    "    cv2.imshow(f\"img\", current_img)\n",
    "    # box = cv2.selectROI(\"ROI\", current_img)\n",
    "    # print(box)\n",
    "    key = cv2.waitKey(0) & 0xFF\n",
    "\n",
    "    if key == ord(\"q\"):\n",
    "        break\n",
    "    elif key == 81:  # left arrow\n",
    "        index -= 2\n",
    "        prev_img = cv2.imread(f\"{directory}/{index}.jpg\")\n",
    "        prev_img_tiled = split_array(cv2.cvtColor(prev_img, cv2.COLOR_BGR2GRAY), (48, 64))\n",
    "    elif key == 83:  # right arrow\n",
    "        prev_img = current_img\n",
    "        prev_img_tiled = current_img_tiled\n",
    "\n",
    "cv2.destroyAllWindows()"
   ]
  },
  {
   "cell_type": "code",
   "execution_count": 7,
   "metadata": {},
   "outputs": [
    {
     "name": "stdout",
     "output_type": "stream",
     "text": [
      "img: 4001, diff 100.601142578125, time: 0.8020401000976562 ms\n"
     ]
    }
   ],
   "source": [
    "prev_img = cv2.imread(f\"{directory}/{start_index}.jpg\")\n",
    "prev_img = cv2.cvtColor(prev_img, cv2.COLOR_BGR2GRAY)\n",
    "prev_img = cv2.GaussianBlur(prev_img, (23, 23), 0)\n",
    "index = start_index\n",
    "while True:\n",
    "    index += 1\n",
    "    if index == end_index:\n",
    "        break\n",
    "\n",
    "    current_img = cv2.imread(f\"{directory}/{index}.jpg\")\n",
    "\n",
    "    start_time = time.time()\n",
    "    current_img = cv2.cvtColor(current_img, cv2.COLOR_BGR2GRAY)\n",
    "    current_img = cv2.GaussianBlur(current_img, (23, 23), 0)\n",
    "    diff = np.mean(current_img - prev_img)\n",
    "    end_time = time.time()\n",
    "\n",
    "    print(f\"img: {index}, diff {diff}, time: {(end_time - start_time)*1000} ms\")\n",
    "    prev_img = current_img\n",
    "    cv2.imshow(f\"img\", current_img)\n",
    "    # box = cv2.selectROI(\"ROI\", current_img)\n",
    "    # print(box)\n",
    "    key = cv2.waitKey(0) & 0xFF\n",
    "\n",
    "    if key == ord(\"q\"):\n",
    "        break\n",
    "    elif key == 81:  # left arrow\n",
    "        index -= 2\n",
    "        prev_img = cv2.imread(f\"{directory}/{index}.jpg\")\n",
    "        prev_img = cv2.cvtColor(prev_img, cv2.COLOR_BGR2GRAY)\n",
    "    elif key == 83:  # right arrow\n",
    "        prev_prev_img = prev_img\n",
    "        prev_img = current_img\n",
    "\n",
    "cv2.destroyAllWindows()"
   ]
  }
 ],
 "metadata": {
  "kernelspec": {
   "display_name": "Python 3",
   "language": "python",
   "name": "python3"
  },
  "language_info": {
   "codemirror_mode": {
    "name": "ipython",
    "version": 3
   },
   "file_extension": ".py",
   "mimetype": "text/x-python",
   "name": "python",
   "nbconvert_exporter": "python",
   "pygments_lexer": "ipython3",
   "version": "3.10.12"
  }
 },
 "nbformat": 4,
 "nbformat_minor": 2
}
